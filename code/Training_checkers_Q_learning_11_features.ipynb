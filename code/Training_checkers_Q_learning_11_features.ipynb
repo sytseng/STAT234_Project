{
 "cells": [
  {
   "cell_type": "code",
   "execution_count": 1,
   "metadata": {},
   "outputs": [],
   "source": [
    "import numpy as np\n",
    "import matplotlib.pyplot as plt\n",
    "\n",
    "from game import *\n",
    "from agents import *\n",
    "from util import *\n",
    "from checkers import *"
   ]
  },
  {
   "cell_type": "code",
   "execution_count": 7,
   "metadata": {
    "scrolled": false
   },
   "outputs": [
    {
     "name": "stdout",
     "output_type": "stream",
     "text": [
      "0\n",
      "10\n",
      "20\n",
      "30\n",
      "40\n",
      "50\n",
      "60\n",
      "70\n",
      "80\n",
      "90\n"
     ]
    },
    {
     "data": {
      "text/plain": [
       "(0.58, 0.0)"
      ]
     },
     "execution_count": 7,
     "metadata": {},
     "output_type": "execute_result"
    }
   ],
   "source": [
    "# n_features = 33\n",
    "# feature_func = checkers_features_augmented\n",
    "\n",
    "n_features = 11\n",
    "feature_func = checkers_features_simple\n",
    "\n",
    "max_moves = 1000\n",
    "\n",
    "initial_weights = np.random.normal(size=n_features)\n",
    "# initial_weights = np.zeros((n_features,))\n",
    "first_agent = QLearningAgent(feature_func, n_features, alpha=0., gamma=0.7, epsilon=0., is_learning_agent=False, weights=initial_weights)\n",
    "ab1 = AlphaBetaAgent(1)\n",
    "ab2 = AlphaBetaAgent(2)\n",
    "ab3 = AlphaBetaAgent(3)\n",
    "rand_agent = RandomAgent()\n",
    "\n",
    "quiet = True\n",
    "test_results = []\n",
    "test_draws = []\n",
    "\n",
    "n_games_test = 100\n",
    "max_random_start_depth = 3\n",
    "\n",
    "for n in range(n_games_test):\n",
    "    if n%10 ==0:print(n)\n",
    "    first_agent_turn = bool(np.random.binomial(1,0.5))\n",
    "    rules = ClassicGameRules(max_moves=max_moves)\n",
    "    game = rules.new_game(first_agent, rand_agent, first_agent_turn, quiet=quiet)\n",
    "    # random start\n",
    "    for _ in range(np.random.choice(max_random_start_depth)*2):\n",
    "        possible_moves = game.game_state.board.get_possible_next_moves()\n",
    "        next_move = possible_moves[np.random.choice(len(possible_moves),size=1)[0]]\n",
    "        game.game_state.board.make_move(next_move, switch_player_turn=True)\n",
    "\n",
    "    num_moves, game_state = game.run()\n",
    "    test_results.append(game_state.is_first_agent_win())\n",
    "    test_draws.append(game_state.max_moves_done)\n",
    "np.mean(np.array(test_results)),np.mean(np.array(test_draws))"
   ]
  },
  {
   "cell_type": "code",
   "execution_count": 8,
   "metadata": {},
   "outputs": [
    {
     "name": "stdout",
     "output_type": "stream",
     "text": [
      "0\n",
      "10\n",
      "20\n",
      "30\n",
      "40\n",
      "50\n",
      "60\n",
      "70\n",
      "80\n",
      "90\n"
     ]
    },
    {
     "data": {
      "text/plain": [
       "(0.29, 0.06)"
      ]
     },
     "execution_count": 8,
     "metadata": {},
     "output_type": "execute_result"
    }
   ],
   "source": [
    "first_agent = QLearningAgent(feature_func, n_features, alpha=0., gamma=0.7, epsilon=0., is_learning_agent=False, weights=initial_weights)\n",
    "\n",
    "test_results = []\n",
    "test_draws = []\n",
    "\n",
    "n_games_test = 100\n",
    "max_random_start_depth = 3\n",
    "\n",
    "for n in range(n_games_test):\n",
    "    if n%10 ==0:print(n)\n",
    "    first_agent_turn = bool(np.random.binomial(1,0.5))\n",
    "    rules = ClassicGameRules(max_moves=max_moves)\n",
    "    game = rules.new_game(first_agent, ab1, first_agent_turn, quiet=quiet)\n",
    "    # random start\n",
    "    for _ in range(np.random.choice(max_random_start_depth)*2):\n",
    "        possible_moves = game.game_state.board.get_possible_next_moves()\n",
    "        next_move = possible_moves[np.random.choice(len(possible_moves),size=1)[0]]\n",
    "        game.game_state.board.make_move(next_move, switch_player_turn=True)\n",
    "\n",
    "    num_moves, game_state = game.run()\n",
    "    test_results.append(game_state.is_first_agent_win())\n",
    "    test_draws.append(game_state.max_moves_done)\n",
    "np.mean(np.array(test_results)),np.mean(np.array(test_draws))"
   ]
  },
  {
   "cell_type": "code",
   "execution_count": 9,
   "metadata": {},
   "outputs": [
    {
     "name": "stdout",
     "output_type": "stream",
     "text": [
      "0\n",
      "10\n",
      "20\n",
      "30\n",
      "40\n",
      "50\n",
      "60\n",
      "70\n",
      "80\n",
      "90\n"
     ]
    },
    {
     "data": {
      "text/plain": [
       "(0.03, 0.03)"
      ]
     },
     "execution_count": 9,
     "metadata": {},
     "output_type": "execute_result"
    }
   ],
   "source": [
    "first_agent = QLearningAgent(feature_func, n_features, alpha=0., gamma=0.7, epsilon=0., is_learning_agent=False, weights=initial_weights)\n",
    "\n",
    "test_results = []\n",
    "test_draws = []\n",
    "\n",
    "n_games_test = 100\n",
    "max_random_start_depth = 3\n",
    "\n",
    "for n in range(n_games_test):\n",
    "    if n%10 ==0:print(n)\n",
    "    first_agent_turn = bool(np.random.binomial(1,0.5))\n",
    "    rules = ClassicGameRules(max_moves=max_moves)\n",
    "    game = rules.new_game(first_agent, ab2, first_agent_turn, quiet=quiet)    \n",
    "    # random start\n",
    "    for _ in range(np.random.choice(max_random_start_depth)*2):\n",
    "        possible_moves = game.game_state.board.get_possible_next_moves()\n",
    "        next_move = possible_moves[np.random.choice(len(possible_moves),size=1)[0]]\n",
    "        game.game_state.board.make_move(next_move, switch_player_turn=True)\n",
    "\n",
    "    num_moves, game_state = game.run()\n",
    "    test_results.append(game_state.is_first_agent_win())\n",
    "    test_draws.append(game_state.max_moves_done)\n",
    "np.mean(np.array(test_results)),np.mean(np.array(test_draws))"
   ]
  },
  {
   "cell_type": "code",
   "execution_count": null,
   "metadata": {},
   "outputs": [
    {
     "name": "stdout",
     "output_type": "stream",
     "text": [
      "0\n",
      "10\n",
      "20\n"
     ]
    }
   ],
   "source": [
    "first_agent = QLearningAgent(feature_func, n_features, alpha=0., gamma=0.7, epsilon=0., is_learning_agent=False, weights=initial_weights)\n",
    "\n",
    "test_results = []\n",
    "test_draws = []\n",
    "\n",
    "n_games_test = 100\n",
    "max_random_start_depth = 3\n",
    "\n",
    "for n in range(n_games_test):\n",
    "    if n%10 ==0:print(n)\n",
    "    first_agent_turn = bool(np.random.binomial(1,0.5))\n",
    "    rules = ClassicGameRules(max_moves=max_moves)\n",
    "    game = rules.new_game(first_agent, ab3, first_agent_turn, quiet=quiet)    \n",
    "    # random start\n",
    "    for _ in range(np.random.choice(max_random_start_depth)*2):\n",
    "        possible_moves = game.game_state.board.get_possible_next_moves()\n",
    "        next_move = possible_moves[np.random.choice(len(possible_moves),size=1)[0]]\n",
    "        game.game_state.board.make_move(next_move, switch_player_turn=True)\n",
    "\n",
    "    num_moves, game_state = game.run()\n",
    "    test_results.append(game_state.is_first_agent_win())\n",
    "    test_draws.append(game_state.max_moves_done)\n",
    "np.mean(np.array(test_results)),np.mean(np.array(test_draws))"
   ]
  },
  {
   "cell_type": "code",
   "execution_count": null,
   "metadata": {},
   "outputs": [],
   "source": [
    "n_train_games = 500\n",
    "n_decay = 100\n",
    "n_games_test = 10\n",
    "test_frequency = 10\n",
    "max_random_start_depth_train = 2\n",
    "max_random_start_depth_test = 2\n",
    "\n",
    "first_agent = QLearningAgent(feature_func, n_features, alpha=0.0015, gamma=0.7, epsilon=0.35, is_learning_agent=True, weights=initial_weights)\n",
    "second_agent_list = [ab1, ab2, ab3, rand_agent]\n",
    "all_results = []\n",
    "all_draws = []\n",
    "all_oppn_idx = []\n",
    "all_weights = []\n",
    "all_num = []\n",
    "test_results_rand = []\n",
    "test_results_1 = []\n",
    "test_results_2 = []\n",
    "test_results_3 = []\n",
    "test_draws_rand = []\n",
    "test_draws_1 = []\n",
    "test_draws_2 = []\n",
    "test_draws_3 = []\n",
    "\n",
    "for n in range(n_train_games):\n",
    "    \n",
    "    # change alpha and epsilon after n_decay games\n",
    "    if n%n_decay == n_decay-1:\n",
    "        first_agent.alpha = max([0.9*first_agent.alpha, 1e-4])\n",
    "        first_agent.epsilon = max([0.9*first_agent.epsilon, 0.1])\n",
    "        print(n, 'Fraction of wins = ', np.mean(all_results[-n_decay:]), 'Fraction of draws = ', np.mean(all_draws[-n_decay:]))\n",
    "        print(n ,'alpha = ',first_agent.alpha, 'epsilon = ',first_agent.epsilon)\n",
    "    \n",
    "    if n%50 == 0: print(n)\n",
    "    # train against randomly selected agent\n",
    "    first_agent_turn = bool(np.random.binomial(1,0.5))\n",
    "    \n",
    "    second_agent_idx = np.random.choice(len(second_agent_list))  \n",
    "    all_oppn_idx.append(second_agent_idx)\n",
    "    second_agent = second_agent_list[second_agent_idx]\n",
    "#     second_agent = ab3\n",
    "    \n",
    "    rules = ClassicGameRules(max_moves=max_moves)\n",
    "    game = rules.new_game(first_agent, second_agent, first_agent_turn, quiet=quiet)    \n",
    "    \n",
    "    # random start\n",
    "    for _ in range(np.random.choice(max_random_start_depth_train)*2):\n",
    "        possible_moves = game.game_state.board.get_possible_next_moves()\n",
    "        next_move = possible_moves[np.random.choice(len(possible_moves),size=1)[0]]\n",
    "        game.game_state.board.make_move(next_move, switch_player_turn=True)\n",
    "        \n",
    "    num_moves, game_state = game.run()\n",
    "    \n",
    "    all_num.append(num_moves)\n",
    "    all_results.append(game_state.is_first_agent_win())\n",
    "    all_draws.append((game_state.max_moves_done))\n",
    "    all_weights.append(first_agent.weights.copy())\n",
    "        \n",
    "    if n%test_frequency == 0:\n",
    "        \n",
    "        this_test_results_rand = []\n",
    "        this_test_results_1 = []\n",
    "        this_test_results_2 = []\n",
    "        this_test_results_3 = []\n",
    "        \n",
    "        this_test_draws_rand = []\n",
    "        this_test_draws_1 = []\n",
    "        this_test_draws_2 = []\n",
    "        this_test_draws_3 = []\n",
    "        \n",
    "        for n in range(n_games_test):\n",
    "            test_agent = QLearningAgent(feature_func, n_features, alpha=0., gamma=0.7, epsilon=0., is_learning_agent=False, weights=all_weights[-1])\n",
    "            # play against ab1\n",
    "            first_agent_turn = bool(np.random.binomial(1,0.5))\n",
    "            rules = ClassicGameRules(max_moves=max_moves)\n",
    "            game = rules.new_game(test_agent, ab1, first_agent_turn, quiet=quiet)\n",
    "            \n",
    "            # random start\n",
    "            random_start_spots = game.game_state.board.spots\n",
    "            for _ in range(np.random.choice(max_random_start_depth_test)*2):\n",
    "                possible_moves = game.game_state.board.get_possible_next_moves()\n",
    "                next_move = possible_moves[np.random.choice(len(possible_moves),size=1)[0]]\n",
    "                game.game_state.board.make_move(next_move, switch_player_turn=True)\n",
    "                random_start_spots = game.game_state.board.spots\n",
    "        \n",
    "            num_moves, game_state = game.run()\n",
    "            this_test_results_1.append(game_state.is_first_agent_win())\n",
    "            this_test_draws_1.append(game_state.max_moves_done)\n",
    "            \n",
    "            # play against ab2\n",
    "            first_agent_turn = bool(np.random.binomial(1,0.5))\n",
    "            rules = ClassicGameRules(max_moves=max_moves)\n",
    "            game = rules.new_game(test_agent, ab2, first_agent_turn, quiet=quiet)\n",
    "            game.game_state.board.spots = random_start_spots # set start board position to the same random start\n",
    "            num_moves, game_state = game.run()\n",
    "            this_test_results_2.append(game_state.is_first_agent_win())\n",
    "            this_test_draws_2.append(game_state.max_moves_done)\n",
    "            \n",
    "            # play against ab3\n",
    "            first_agent_turn = bool(np.random.binomial(1,0.5))\n",
    "            rules = ClassicGameRules(max_moves=max_moves)\n",
    "            game = rules.new_game(test_agent, ab3, first_agent_turn, quiet=quiet)\n",
    "            game.game_state.board.spots = random_start_spots # set start board position to the same random start\n",
    "            num_moves, game_state = game.run()\n",
    "            this_test_results_3.append(game_state.is_first_agent_win())\n",
    "            this_test_draws_3.append(game_state.max_moves_done)\n",
    "            \n",
    "            # play against random agent\n",
    "            first_agent_turn = bool(np.random.binomial(1,0.5))\n",
    "            rules = ClassicGameRules(max_moves=max_moves)\n",
    "            game = rules.new_game(test_agent, rand_agent, first_agent_turn, quiet=quiet)\n",
    "            game.game_state.board.spots = random_start_spots # set start board position to the same random start\n",
    "            num_moves, game_state = game.run()\n",
    "            this_test_results_rand.append(game_state.is_first_agent_win())\n",
    "            this_test_draws_rand.append(game_state.max_moves_done)\n",
    "            \n",
    "        test_results_1.append(np.mean(np.array(this_test_results_1)))\n",
    "        test_results_2.append(np.mean(np.array(this_test_results_2)))\n",
    "        test_results_3.append(np.mean(np.array(this_test_results_3)))\n",
    "        test_results_rand.append(np.mean(np.array(this_test_results_rand)))\n",
    "        \n",
    "        test_draws_1.append(np.mean(np.array(this_test_draws_1)))\n",
    "        test_draws_2.append(np.mean(np.array(this_test_draws_2)))\n",
    "        test_draws_3.append(np.mean(np.array(this_test_draws_3)))\n",
    "        test_draws_rand.append(np.mean(np.array(this_test_draws_rand)))\n",
    "        \n",
    "        print('wins = ',test_results_1[-1],test_results_2[-1],test_results_3[-1],test_results_rand[-1])    \n",
    "        print('draws = ',test_draws_1[-1],test_draws_2[-1],test_draws_3[-1],test_draws_rand[-1])    "
   ]
  },
  {
   "cell_type": "code",
   "execution_count": null,
   "metadata": {},
   "outputs": [],
   "source": [
    "all_weights_array = np.stack(all_weights)\n",
    "plt.plot(all_weights_array);"
   ]
  },
  {
   "cell_type": "code",
   "execution_count": null,
   "metadata": {},
   "outputs": [],
   "source": [
    "plt.plot(all_num)"
   ]
  },
  {
   "cell_type": "code",
   "execution_count": null,
   "metadata": {},
   "outputs": [],
   "source": [
    "loss_rand = 1-np.array(test_results_rand)-np.array(test_draws_rand)\n",
    "plt.plot(test_results_rand),plt.plot(test_draws_rand),plt.plot(loss_rand);"
   ]
  },
  {
   "cell_type": "code",
   "execution_count": null,
   "metadata": {},
   "outputs": [],
   "source": [
    "loss_1 = 1-np.array(test_results_1)-np.array(test_draws_1)\n",
    "plt.plot(test_results_1),plt.plot(test_draws_1),plt.plot(loss_1);"
   ]
  },
  {
   "cell_type": "code",
   "execution_count": null,
   "metadata": {},
   "outputs": [],
   "source": [
    "loss_2 = 1-np.array(test_results_2)-np.array(test_draws_2)\n",
    "plt.plot(test_results_2),plt.plot(test_draws_2),plt.plot(loss_2);"
   ]
  },
  {
   "cell_type": "code",
   "execution_count": null,
   "metadata": {},
   "outputs": [],
   "source": [
    "loss_3 = 1-np.array(test_results_3)-np.array(test_draws_3)\n",
    "plt.plot(test_results_3),plt.plot(test_draws_3),plt.plot(loss_3);"
   ]
  },
  {
   "cell_type": "code",
   "execution_count": null,
   "metadata": {},
   "outputs": [],
   "source": [
    "first_agent = QLearningAgent(alpha=0., gamma=0.7, epsilon=0., is_learning_agent=False, weights=all_weights[-1])\n",
    "\n",
    "test_results = []\n",
    "test_draws = []\n",
    "\n",
    "n_games_test = 100\n",
    "max_random_start_depth = 3\n",
    "\n",
    "for n in range(n_games_test):\n",
    "    if n%10 ==0:print(n)\n",
    "    first_agent_turn = bool(np.random.binomial(1,0.5))\n",
    "    rules = ClassicGameRules(max_moves=max_moves)\n",
    "    game = rules.new_game(first_agent, ab1, first_agent_turn, quiet=quiet)\n",
    "    \n",
    "    # random start\n",
    "    for _ in range(np.random.choice(max_random_start_depth)*2):\n",
    "        possible_moves = game.game_state.board.get_possible_next_moves()\n",
    "        next_move = possible_moves[np.random.choice(len(possible_moves),size=1)[0]]\n",
    "        game.game_state.board.make_move(next_move, switch_player_turn=True)\n",
    "\n",
    "    num_moves, game_state = game.run()\n",
    "    test_results.append(game_state.is_first_agent_win())\n",
    "    test_draws.append(game_state.max_moves_done)\n",
    "np.mean(np.array(test_results)),np.mean(np.array(test_draws))"
   ]
  },
  {
   "cell_type": "code",
   "execution_count": null,
   "metadata": {},
   "outputs": [],
   "source": [
    "first_agent = QLearningAgent(feature_func, n_features, alpha=0., gamma=0.7, epsilon=0., is_learning_agent=False, weights=all_weights[-1])\n",
    "\n",
    "test_results = []\n",
    "test_draws = []\n",
    "\n",
    "n_games_test = 100\n",
    "max_random_start_depth = 3\n",
    "\n",
    "for n in range(n_games_test):\n",
    "    if n%10 ==0:print(n)\n",
    "    first_agent_turn = bool(np.random.binomial(1,0.5))\n",
    "    rules = ClassicGameRules(max_moves=max_moves)\n",
    "    game = rules.new_game(first_agent, ab2, first_agent_turn, quiet=quiet)\n",
    "    \n",
    "    # random start\n",
    "    for _ in range(np.random.choice(max_random_start_depth)*2):\n",
    "        possible_moves = game.game_state.board.get_possible_next_moves()\n",
    "        next_move = possible_moves[np.random.choice(len(possible_moves),size=1)[0]]\n",
    "        game.game_state.board.make_move(next_move, switch_player_turn=True)\n",
    "\n",
    "    num_moves, game_state = game.run()\n",
    "    test_results.append(game_state.is_first_agent_win())\n",
    "    test_draws.append(game_state.max_moves_done)\n",
    "np.mean(np.array(test_results)),np.mean(np.array(test_draws))"
   ]
  },
  {
   "cell_type": "code",
   "execution_count": null,
   "metadata": {},
   "outputs": [],
   "source": [
    "first_agent = QLearningAgent(feature_func, n_features, alpha=0., gamma=0.7, epsilon=0., is_learning_agent=False, weights=all_weights[-1])\n",
    "\n",
    "test_results = []\n",
    "test_draws = []\n",
    "\n",
    "n_games_test = 100\n",
    "max_random_start_depth = 3\n",
    "\n",
    "for n in range(n_games_test):\n",
    "    if n%10 ==0:print(n)\n",
    "    first_agent_turn = bool(np.random.binomial(1,0.5))\n",
    "    rules = ClassicGameRules(max_moves=max_moves)\n",
    "    game = rules.new_game(first_agent, ab3, first_agent_turn, quiet=quiet)\n",
    "    \n",
    "    # random start\n",
    "    for _ in range(np.random.choice(max_random_start_depth)*2):\n",
    "        possible_moves = game.game_state.board.get_possible_next_moves()\n",
    "        next_move = possible_moves[np.random.choice(len(possible_moves),size=1)[0]]\n",
    "        game.game_state.board.make_move(next_move, switch_player_turn=True)\n",
    "\n",
    "    num_moves, game_state = game.run()\n",
    "    test_results.append(game_state.is_first_agent_win())\n",
    "    test_draws.append(game_state.max_moves_done)\n",
    "np.mean(np.array(test_results)),np.mean(np.array(test_draws))"
   ]
  },
  {
   "cell_type": "code",
   "execution_count": null,
   "metadata": {},
   "outputs": [],
   "source": [
    "first_agent = QLearningAgent(feature_func, n_features, alpha=0., gamma=0.7, epsilon=0., is_learning_agent=False, weights=all_weights[np.argmax(test_results_2)*test_frequency])\n",
    "\n",
    "test_results = []\n",
    "test_draws = []\n",
    "max_random_start_depth = 3\n",
    "\n",
    "n_games_test = 100\n",
    "for n in range(n_games_test):\n",
    "    if n%10 ==0:print(n)\n",
    "    first_agent_turn = bool(np.random.binomial(1,0.5))\n",
    "    rules = ClassicGameRules(max_moves=max_moves)\n",
    "    game = rules.new_game(first_agent, ab2, first_agent_turn, quiet=quiet)\n",
    "    \n",
    "    for _ in range(np.random.choice(max_random_start_depth)*2):\n",
    "        possible_moves = game.game_state.board.get_possible_next_moves()\n",
    "        next_move = possible_moves[np.random.choice(len(possible_moves),size=1)[0]]\n",
    "        game.game_state.board.make_move(next_move, switch_player_turn=True)\n",
    "\n",
    "    num_moves, game_state = game.run()\n",
    "    test_results.append(game_state.is_first_agent_win())\n",
    "    test_draws.append(game_state.max_moves_done)\n",
    "np.mean(np.array(test_results)),np.mean(np.array(test_draws))"
   ]
  },
  {
   "cell_type": "code",
   "execution_count": null,
   "metadata": {},
   "outputs": [],
   "source": [
    "first_agent = QLearningAgent(feature_func, n_features, alpha=0., gamma=0.7, epsilon=0., is_learning_agent=False, weights=all_weights[np.argmax(test_results_3)*test_frequency])\n",
    "\n",
    "test_results = []\n",
    "test_draws = []\n",
    "max_random_start_depth = 3\n",
    "\n",
    "n_games_test = 100\n",
    "for n in range(n_games_test):\n",
    "    if n%10 ==0:print(n)\n",
    "    first_agent_turn = bool(np.random.binomial(1,0.5))\n",
    "    rules = ClassicGameRules(max_moves=max_moves)\n",
    "    game = rules.new_game(first_agent, ab3, first_agent_turn, quiet=quiet)\n",
    "    \n",
    "    for _ in range(np.random.choice(max_random_start_depth)*2):\n",
    "        possible_moves = game.game_state.board.get_possible_next_moves()\n",
    "        next_move = possible_moves[np.random.choice(len(possible_moves),size=1)[0]]\n",
    "        game.game_state.board.make_move(next_move, switch_player_turn=True)\n",
    "\n",
    "    num_moves, game_state = game.run()\n",
    "    test_results.append(game_state.is_first_agent_win())\n",
    "    test_draws.append(game_state.max_moves_done)\n",
    "np.mean(np.array(test_results)),np.mean(np.array(test_draws))"
   ]
  },
  {
   "cell_type": "code",
   "execution_count": null,
   "metadata": {},
   "outputs": [],
   "source": []
  },
  {
   "cell_type": "code",
   "execution_count": null,
   "metadata": {},
   "outputs": [],
   "source": []
  }
 ],
 "metadata": {
  "kernelspec": {
   "display_name": "Python 3",
   "language": "python",
   "name": "python3"
  },
  "language_info": {
   "codemirror_mode": {
    "name": "ipython",
    "version": 3
   },
   "file_extension": ".py",
   "mimetype": "text/x-python",
   "name": "python",
   "nbconvert_exporter": "python",
   "pygments_lexer": "ipython3",
   "version": "3.6.7"
  }
 },
 "nbformat": 4,
 "nbformat_minor": 2
}
