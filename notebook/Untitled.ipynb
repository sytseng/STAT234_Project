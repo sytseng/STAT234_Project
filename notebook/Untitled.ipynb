{
 "cells": [
  {
   "cell_type": "code",
   "execution_count": 1,
   "metadata": {},
   "outputs": [],
   "source": [
    "from autograd import numpy as np\n",
    "from autograd import grad\n",
    "from autograd.misc.optimizers import adam\n",
    "import matplotlib.pyplot as plt\n",
    "import pickle\n",
    "\n",
    "from game import *\n",
    "from agents import *\n",
    "from checkers import *"
   ]
  },
  {
   "cell_type": "code",
   "execution_count": 11,
   "metadata": {},
   "outputs": [],
   "source": [
    "# generate opponents using opposite reward\n",
    "ab1_r = AlphaBetaAgent(1, reward_direction=-1)\n",
    "ab2_r = AlphaBetaAgent(2, reward_direction=-1)\n",
    "ab3_r = AlphaBetaAgent(3, reward_direction=-1)     \n",
    "rand_agent = RandomAgent()\n",
    "\n",
    "\n",
    "n_features = 34\n",
    "feature_func = checkers_features_augmented\n",
    "\n",
    "# n_features = 12\n",
    "# feature_func = checkers_features_simple\n",
    "\n",
    "reward_function = checkers_reward\n",
    "\n",
    "max_moves = 500\n",
    "np.random.seed(12)\n",
    "initial_weights = np.random.normal(size=n_features)\n",
    "first_agent = SarsaLearningAgent(feature_func, n_features, reward_function = reward_function, alpha=0.01, gamma=0.7, epsilon=0.35, is_learning_agent=True, weights=initial_weights)\n",
    "\n",
    "\n",
    "# set reverse rule (in ClassicGameRules.new_game)\n",
    "reverse = True\n",
    "quiet = True"
   ]
  },
  {
   "cell_type": "code",
   "execution_count": 3,
   "metadata": {},
   "outputs": [
    {
     "data": {
      "text/plain": [
       "[]"
      ]
     },
     "execution_count": 3,
     "metadata": {},
     "output_type": "execute_result"
    }
   ],
   "source": [
    "first_agent.start_episode()\n",
    "first_agent.temporal_difference"
   ]
  },
  {
   "cell_type": "code",
   "execution_count": 12,
   "metadata": {},
   "outputs": [
    {
     "name": "stdout",
     "output_type": "stream",
     "text": [
      "Oppn: Rand agent, RL agent play first win = True draw = False moves = 39\n"
     ]
    }
   ],
   "source": [
    "first_agent_turn = True\n",
    "rules = ClassicGameRules(max_moves=max_moves)\n",
    "game = rules.new_game(first_agent, rand_agent, first_agent_turn, quiet=quiet)\n",
    "num_moves, game_state = game.run()\n",
    "print('Oppn: Rand agent, RL agent play first', 'win =',game_state.is_first_agent_win(),'draw =',game_state.max_moves_done, 'moves =', num_moves)\n",
    "\n"
   ]
  },
  {
   "cell_type": "code",
   "execution_count": 15,
   "metadata": {},
   "outputs": [
    {
     "data": {
      "text/plain": [
       "([24.6565256666072,\n",
       "  2.6100636188767643,\n",
       "  -22.90314166494003,\n",
       "  -2.6909550423126585,\n",
       "  -4.873591618124443,\n",
       "  18.20862279188808,\n",
       "  -21.166392547119568,\n",
       "  -5.9502065662693475,\n",
       "  21.37869716755476,\n",
       "  -1.1392422611248698,\n",
       "  6.772211326203377,\n",
       "  16.85657551971269,\n",
       "  -3.631709657668953,\n",
       "  16.19576018156413,\n",
       "  7.481218515092407,\n",
       "  -4.097961993587561,\n",
       "  2.232164696187841,\n",
       "  13.191252246070126,\n",
       "  6.13598735072319,\n",
       "  2.2382975236846314,\n",
       "  10.241830539374796,\n",
       "  -1.9334368780576796,\n",
       "  8.942238351508275,\n",
       "  2.715648557464238,\n",
       "  -3.714532270644624,\n",
       "  1.5005446006139138,\n",
       "  22.36123667107518,\n",
       "  -1.7360792600598896,\n",
       "  -1.093762273254187,\n",
       "  -7.14291949283509,\n",
       "  0.7207784499038143,\n",
       "  -8.93276060387816,\n",
       "  19.477655135079793,\n",
       "  3.5919484247573723,\n",
       "  1.4262722536487757,\n",
       "  -4.695420832469185,\n",
       "  -2.7146638388506346,\n",
       "  5.662917956658985,\n",
       "  -9.543566692400912,\n",
       "  2.091548252716931,\n",
       "  1.1722603659080464,\n",
       "  7.730256875773775,\n",
       "  0.8371660117434431,\n",
       "  -2.0752756984367347,\n",
       "  5.383096702018447,\n",
       "  2.0267951562355306,\n",
       "  2.6693511962732774,\n",
       "  -7.134758635438021,\n",
       "  -4.114761312130211,\n",
       "  12.302473419484,\n",
       "  -13.569996091435923,\n",
       "  -9.395155808468463,\n",
       "  -1.1511445665236022,\n",
       "  1.6546288166089071,\n",
       "  1.8157717356236012,\n",
       "  -25.153279631074877,\n",
       "  -13.483629752685644,\n",
       "  8.876138128479166,\n",
       "  -1.255611524976824,\n",
       "  8.598285144596268,\n",
       "  9.63256919521389,\n",
       "  5.248102555292587,\n",
       "  -1.0816555414885995,\n",
       "  -12.123404822625533,\n",
       "  19.088865939380348,\n",
       "  -3.211971758459078,\n",
       "  29.5231061593347,\n",
       "  6.643329529698492,\n",
       "  -4.447977998455211,\n",
       "  2.510583825074542,\n",
       "  0.4704075726410565,\n",
       "  -3.4685703698663586,\n",
       "  1.1366769242810477,\n",
       "  3.855078629439555,\n",
       "  -11.959653146494645,\n",
       "  13.171438455188317,\n",
       "  0.9551187501058118,\n",
       "  3.1423297384763464,\n",
       "  0.6553251608417534,\n",
       "  -9.572013044720366,\n",
       "  -0.8284697376960946,\n",
       "  4.743281642081624,\n",
       "  4.501588602585547,\n",
       "  10.607561930351727,\n",
       "  3.068487167750304,\n",
       "  12.972311432475207,\n",
       "  5.325702161733272,\n",
       "  -6.71664423876816,\n",
       "  -8.440250018626564,\n",
       "  -3.2347405011478534,\n",
       "  -2.162488477447575,\n",
       "  -5.926985252475464,\n",
       "  -2.9450494111564622,\n",
       "  2.8010583991330162,\n",
       "  -8.889228110237639,\n",
       "  3.5935645428277376,\n",
       "  0.808927488339007,\n",
       "  3.038450691821805,\n",
       "  -1.1640110478734216,\n",
       "  -6.851294950107984,\n",
       "  56.658072723254406],\n",
       " [499.7,\n",
       "  492.8,\n",
       "  -503.8,\n",
       "  -508.0,\n",
       "  -504.0,\n",
       "  499.0,\n",
       "  -503.7,\n",
       "  -504.5,\n",
       "  497.4,\n",
       "  500.3,\n",
       "  491.1,\n",
       "  499.1,\n",
       "  -514.3,\n",
       "  497.2,\n",
       "  496.8,\n",
       "  497.4,\n",
       "  498.5,\n",
       "  499.8,\n",
       "  499.3,\n",
       "  499.5,\n",
       "  498.6,\n",
       "  498.7,\n",
       "  497.8,\n",
       "  499.9,\n",
       "  500.8,\n",
       "  498.7,\n",
       "  498.9,\n",
       "  498.5,\n",
       "  -525.8000000000001,\n",
       "  -505.4,\n",
       "  499.9,\n",
       "  -504.8,\n",
       "  499.3,\n",
       "  497.6,\n",
       "  -507.3,\n",
       "  -504.6,\n",
       "  -504.8,\n",
       "  499.4,\n",
       "  -504.2,\n",
       "  -505.3,\n",
       "  500.0,\n",
       "  497.4,\n",
       "  499.0,\n",
       "  -507.09999999999997,\n",
       "  -503.9,\n",
       "  495.2,\n",
       "  485.00000000000006,\n",
       "  -504.0,\n",
       "  499.4,\n",
       "  496.9,\n",
       "  -506.0,\n",
       "  -503.5,\n",
       "  -504.0,\n",
       "  -505.0,\n",
       "  -525.2,\n",
       "  499.2,\n",
       "  -504.8,\n",
       "  497.7,\n",
       "  -520.2,\n",
       "  -505.3,\n",
       "  499.4,\n",
       "  493.40000000000003,\n",
       "  -505.6,\n",
       "  -504.4,\n",
       "  499.5,\n",
       "  -508.7,\n",
       "  498.3,\n",
       "  495.9,\n",
       "  499.6,\n",
       "  -509.59999999999997,\n",
       "  499.1,\n",
       "  -504.8,\n",
       "  -504.3,\n",
       "  497.6,\n",
       "  -503.8,\n",
       "  499.4,\n",
       "  -511.59999999999997,\n",
       "  498.8,\n",
       "  492.2,\n",
       "  -504.5,\n",
       "  -507.7,\n",
       "  499.5,\n",
       "  499.4,\n",
       "  499.9,\n",
       "  -503.8,\n",
       "  498.2,\n",
       "  496.2,\n",
       "  500.1,\n",
       "  -504.7,\n",
       "  496.4,\n",
       "  495.6,\n",
       "  -504.4,\n",
       "  -505.0,\n",
       "  500.0,\n",
       "  -503.9,\n",
       "  -505.3,\n",
       "  498.8,\n",
       "  499.7,\n",
       "  499.7,\n",
       "  -524.2,\n",
       "  497.9])"
      ]
     },
     "execution_count": 15,
     "metadata": {},
     "output_type": "execute_result"
    }
   ],
   "source": [
    "first_agent.episode_td_history,first_agent.episode_reward_history"
   ]
  },
  {
   "cell_type": "code",
   "execution_count": 14,
   "metadata": {},
   "outputs": [
    {
     "name": "stdout",
     "output_type": "stream",
     "text": [
      "0\n",
      "10\n",
      "20\n",
      "30\n",
      "40\n",
      "50\n",
      "60\n",
      "70\n",
      "80\n",
      "90\n"
     ]
    },
    {
     "data": {
      "text/plain": [
       "(0.58, 0.03)"
      ]
     },
     "execution_count": 14,
     "metadata": {},
     "output_type": "execute_result"
    }
   ],
   "source": [
    "max_random_start_depth=2\n",
    "n_test_games=100\n",
    "max_moves = 500\n",
    "test_results = []\n",
    "test_draws=[]\n",
    "\n",
    "ab1 = AlphaBetaAgent(1)\n",
    "\n",
    "for n in range(n_test_games):\n",
    "    if n%10 ==0:print(n)\n",
    "    first_agent_turn = bool(np.random.binomial(1,0.5))\n",
    "    rules = ClassicGameRules(max_moves=max_moves)\n",
    "    game = rules.new_game(first_agent,ab1, first_agent_turn, quiet=quiet)\n",
    "    # random start\n",
    "    for _ in range(np.random.choice(max_random_start_depth)*2):\n",
    "        possible_moves = game.game_state.board.get_possible_next_moves()\n",
    "        next_move = possible_moves[np.random.choice(len(possible_moves),size=1)[0]]\n",
    "        game.game_state.board.make_move(next_move, switch_player_turn=True)\n",
    "\n",
    "    num_moves, game_state = game.run()\n",
    "    test_results.append(game_state.is_first_agent_win())\n",
    "    test_draws.append(game_state.max_moves_done)\n",
    "np.mean(np.array(test_results)),np.mean(np.array(test_draws))"
   ]
  },
  {
   "cell_type": "code",
   "execution_count": 19,
   "metadata": {
    "scrolled": true
   },
   "outputs": [
    {
     "name": "stdout",
     "output_type": "stream",
     "text": [
      "0\n",
      "9 Fraction of wins =  0.1111111111111111 Fraction of draws =  0.1111111111111111\n",
      "9 alpha =  0.0095 epsilon =  0.33249999999999996\n",
      "wins =  0.0 0.1\n",
      "draws =  0.2 0.0\n",
      "19 Fraction of wins =  0.2 Fraction of draws =  0.0\n",
      "19 alpha =  0.009025 epsilon =  0.31587499999999996\n",
      "wins =  0.9 1.0\n",
      "draws =  0.0 0.0\n",
      "29 Fraction of wins =  0.2 Fraction of draws =  0.1\n",
      "29 alpha =  0.00857375 epsilon =  0.30008124999999997\n",
      "wins =  0.9 1.0\n",
      "draws =  0.1 0.0\n",
      "39 Fraction of wins =  0.2 Fraction of draws =  0.2\n",
      "39 alpha =  0.0081450625 epsilon =  0.28507718749999994\n",
      "wins =  0.9 1.0\n",
      "draws =  0.0 0.0\n",
      "49 Fraction of wins =  0.4 Fraction of draws =  0.1\n",
      "49 alpha =  0.007737809374999999 epsilon =  0.27082332812499993\n",
      "wins =  0.7 1.0\n",
      "draws =  0.3 0.0\n",
      "50\n",
      "59 Fraction of wins =  0.3 Fraction of draws =  0.0\n",
      "59 alpha =  0.007350918906249998 epsilon =  0.2572821617187499\n",
      "wins =  0.8 1.0\n",
      "draws =  0.2 0.0\n",
      "69 Fraction of wins =  0.3 Fraction of draws =  0.1\n",
      "69 alpha =  0.006983372960937498 epsilon =  0.24441805363281238\n",
      "wins =  1.0 1.0\n",
      "draws =  0.0 0.0\n",
      "79 Fraction of wins =  0.6 Fraction of draws =  0.0\n",
      "79 alpha =  0.006634204312890623 epsilon =  0.23219715095117174\n",
      "wins =  1.0 1.0\n",
      "draws =  0.0 0.0\n",
      "89 Fraction of wins =  0.2 Fraction of draws =  0.1\n",
      "89 alpha =  0.006302494097246091 epsilon =  0.22058729340361313\n",
      "wins =  1.0 1.0\n",
      "draws =  0.0 0.0\n",
      "99 Fraction of wins =  0.3 Fraction of draws =  0.0\n",
      "99 alpha =  0.005987369392383786 epsilon =  0.20955792873343246\n",
      "wins =  0.6 1.0\n",
      "draws =  0.3 0.0\n",
      "100\n",
      "109 Fraction of wins =  0.2 Fraction of draws =  0.1\n",
      "109 alpha =  0.005688000922764597 epsilon =  0.19908003229676083\n",
      "wins =  0.8 1.0\n",
      "draws =  0.2 0.0\n",
      "119 Fraction of wins =  0.6 Fraction of draws =  0.0\n",
      "119 alpha =  0.005403600876626367 epsilon =  0.18912603068192277\n",
      "wins =  0.8 1.0\n",
      "draws =  0.2 0.0\n",
      "129 Fraction of wins =  0.5 Fraction of draws =  0.0\n",
      "129 alpha =  0.005133420832795048 epsilon =  0.1796697291478266\n",
      "wins =  0.8 1.0\n",
      "draws =  0.2 0.0\n",
      "139 Fraction of wins =  0.4 Fraction of draws =  0.1\n",
      "139 alpha =  0.0048767497911552955 epsilon =  0.17068624269043528\n",
      "wins =  0.8 1.0\n",
      "draws =  0.2 0.0\n",
      "149 Fraction of wins =  0.6 Fraction of draws =  0.0\n",
      "149 alpha =  0.00463291230159753 epsilon =  0.1621519305559135\n",
      "wins =  0.7 0.5\n",
      "draws =  0.1 0.0\n",
      "150\n",
      "159 Fraction of wins =  0.3 Fraction of draws =  0.1\n",
      "159 alpha =  0.0044012666865176535 epsilon =  0.15404433402811782\n",
      "wins =  0.3 0.9\n",
      "draws =  0.5 0.0\n",
      "169 Fraction of wins =  0.7 Fraction of draws =  0.1\n",
      "169 alpha =  0.004181203352191771 epsilon =  0.14634211732671193\n",
      "wins =  0.9 0.9\n",
      "draws =  0.1 0.0\n",
      "179 Fraction of wins =  0.6 Fraction of draws =  0.2\n",
      "179 alpha =  0.003972143184582182 epsilon =  0.13902501146037632\n",
      "wins =  0.9 1.0\n",
      "draws =  0.1 0.0\n",
      "189 Fraction of wins =  0.5 Fraction of draws =  0.0\n",
      "189 alpha =  0.0037735360253530726 epsilon =  0.1320737608873575\n",
      "wins =  0.8 1.0\n",
      "draws =  0.2 0.0\n",
      "199 Fraction of wins =  0.5 Fraction of draws =  0.3\n",
      "199 alpha =  0.0035848592240854188 epsilon =  0.1254700728429896\n",
      "wins =  0.9 1.0\n",
      "draws =  0.1 0.0\n"
     ]
    }
   ],
   "source": [
    "n_features = 34\n",
    "feature_func = checkers_features_augmented\n",
    "\n",
    "reward_function = checkers_reward\n",
    "\n",
    "max_moves = 500\n",
    "np.random.seed(12)\n",
    "initial_weights = np.random.normal(size=n_features)\n",
    "\n",
    "ab1 = AlphaBetaAgent(1)\n",
    "ab2 = AlphaBetaAgent(2)\n",
    "ab3 = AlphaBetaAgent(3)\n",
    "rand_agent = RandomAgent()\n",
    "\n",
    "quiet = True\n",
    "n_train_games = 200\n",
    "n_decay = 10\n",
    "n_games_test = 10\n",
    "test_frequency = 10\n",
    "max_random_start_depth_train = 3\n",
    "max_random_start_depth_test = 3\n",
    "gamma = 0.7\n",
    "initial_alpha = 0.01\n",
    "initial_epsilon = 0.35\n",
    "\n",
    "first_agent = SarsaLearningAgent(feature_func, n_features, reward_function = reward_function, \n",
    "                                 alpha=initial_alpha, gamma=gamma, epsilon=initial_epsilon, \n",
    "                                 is_learning_agent=True, weights=initial_weights)\n",
    "second_agent_list = [ab1, ab2, ab3, rand_agent]\n",
    "all_results = []\n",
    "all_draws = []\n",
    "all_oppn_idx = []\n",
    "all_weights = []\n",
    "all_rewards = []\n",
    "all_num = []\n",
    "test_results_rand = []\n",
    "test_results_1 = []\n",
    "test_results_2 = []\n",
    "test_results_3 = []\n",
    "test_draws_rand = []\n",
    "test_draws_1 = []\n",
    "test_draws_2 = []\n",
    "test_draws_3 = []\n",
    "\n",
    "# pre-training test\n",
    "this_test_results_rand = []\n",
    "this_test_results_1 = []\n",
    "this_test_results_2 = []\n",
    "this_test_results_3 = []\n",
    "\n",
    "this_test_draws_rand = []\n",
    "this_test_draws_1 = []\n",
    "this_test_draws_2 = []\n",
    "this_test_draws_3 = []\n",
    "\n",
    "# training \n",
    "for n in range(n_train_games):    \n",
    "    # change alpha and epsilon after n_decay games\n",
    "    if n%n_decay == n_decay-1:\n",
    "        first_agent.alpha = max([0.95*first_agent.alpha, 1e-4])\n",
    "        first_agent.epsilon = max([0.95*first_agent.epsilon, 0.05])\n",
    "        print(n, 'Fraction of wins = ', np.mean(all_results[-n_decay:]), 'Fraction of draws = ', np.mean(all_draws[-n_decay:]))\n",
    "        print(n ,'alpha = ',first_agent.alpha, 'epsilon = ',first_agent.epsilon)\n",
    "    \n",
    "    if n%50 == 0: print(n)\n",
    "    # train against randomly selected agent\n",
    "    first_agent_turn = bool(np.random.binomial(1,0.5))\n",
    "    \n",
    "    second_agent_idx = np.random.choice(len(second_agent_list))  \n",
    "    all_oppn_idx.append(second_agent_idx)\n",
    "    second_agent = second_agent_list[second_agent_idx]\n",
    "    \n",
    "    rules = ClassicGameRules(max_moves=max_moves)\n",
    "    game = rules.new_game(first_agent, second_agent, first_agent_turn, quiet=quiet)    \n",
    "    \n",
    "    # random start\n",
    "    for _ in range(np.random.choice(max_random_start_depth_train)*2):\n",
    "        possible_moves = game.game_state.board.get_possible_next_moves()\n",
    "        next_move = possible_moves[np.random.choice(len(possible_moves),size=1)[0]]\n",
    "        game.game_state.board.make_move(next_move, switch_player_turn=True)\n",
    "        \n",
    "    num_moves, game_state = game.run()\n",
    "    \n",
    "    all_num.append(num_moves)\n",
    "    all_rewards.append(first_agent.episode_rewards)\n",
    "    all_results.append(game_state.is_first_agent_win())\n",
    "    all_draws.append((game_state.max_moves_done))\n",
    "    all_weights.append(first_agent.weights.copy())\n",
    "        \n",
    "    if n%test_frequency == test_frequency-1:\n",
    "        \n",
    "        this_test_results_rand = []\n",
    "        this_test_results_1 = []\n",
    "        this_test_results_2 = []\n",
    "        this_test_results_3 = []\n",
    "        \n",
    "        this_test_draws_rand = []\n",
    "        this_test_draws_1 = []\n",
    "        this_test_draws_2 = []\n",
    "        this_test_draws_3 = []\n",
    "        \n",
    "        for n in range(n_games_test):\n",
    "            current_epislon = first_agent.epsilon\n",
    "            test_agent = SarsaLearningAgent(feature_func, n_features, reward_function = reward_function, alpha=0., gamma=gamma, epsilon=current_epislon, is_learning_agent=False, weights=all_weights[-1])\n",
    "            # play against ab1\n",
    "            first_agent_turn = bool(np.random.binomial(1,0.5))\n",
    "            rules = ClassicGameRules(max_moves=max_moves)\n",
    "            game = rules.new_game(test_agent, ab1, first_agent_turn, quiet=quiet)\n",
    "            \n",
    "            # random start\n",
    "            random_start_spots = game.game_state.board.spots\n",
    "            for _ in range(np.random.choice(max_random_start_depth_test)*2):\n",
    "                possible_moves = game.game_state.board.get_possible_next_moves()\n",
    "                next_move = possible_moves[np.random.choice(len(possible_moves),size=1)[0]]\n",
    "                game.game_state.board.make_move(next_move, switch_player_turn=True)\n",
    "                random_start_spots = game.game_state.board.spots\n",
    "        \n",
    "            num_moves, game_state = game.run()\n",
    "            this_test_results_1.append(game_state.is_first_agent_win())\n",
    "            this_test_draws_1.append(game_state.max_moves_done)\n",
    "            \n",
    "#             # play against ab2\n",
    "#             first_agent_turn = bool(np.random.binomial(1,0.5))\n",
    "#             rules = ClassicGameRules(max_moves=max_moves)\n",
    "#             game = rules.new_game(test_agent, ab2, first_agent_turn, quiet=quiet)\n",
    "#             game.game_state.board.spots = random_start_spots # set start board position to the same random start\n",
    "#             num_moves, game_state = game.run()\n",
    "#             this_test_results_2.append(game_state.is_first_agent_win())\n",
    "#             this_test_draws_2.append(game_state.max_moves_done)\n",
    "            \n",
    "#             # play against ab3\n",
    "#             first_agent_turn = bool(np.random.binomial(1,0.5))\n",
    "#             rules = ClassicGameRules(max_moves=max_moves)\n",
    "#             game = rules.new_game(test_agent, ab3, first_agent_turn, quiet=quiet)\n",
    "#             game.game_state.board.spots = random_start_spots # set start board position to the same random start\n",
    "#             num_moves, game_state = game.run()\n",
    "#             this_test_results_3.append(game_state.is_first_agent_win())\n",
    "#             this_test_draws_3.append(game_state.max_moves_done)\n",
    "            \n",
    "            # play against random agent\n",
    "            first_agent_turn = bool(np.random.binomial(1,0.5))\n",
    "            rules = ClassicGameRules(max_moves=max_moves)\n",
    "            game = rules.new_game(test_agent, rand_agent, first_agent_turn, quiet=quiet)\n",
    "            game.game_state.board.spots = random_start_spots # set start board position to the same random start\n",
    "            num_moves, game_state = game.run()\n",
    "            this_test_results_rand.append(game_state.is_first_agent_win())\n",
    "            this_test_draws_rand.append(game_state.max_moves_done)\n",
    "            \n",
    "        test_results_1.append(np.mean(np.array(this_test_results_1)))\n",
    "#         test_results_2.append(np.mean(np.array(this_test_results_2)))\n",
    "#         test_results_3.append(np.mean(np.array(this_test_results_3)))\n",
    "        test_results_rand.append(np.mean(np.array(this_test_results_rand)))\n",
    "        \n",
    "        test_draws_1.append(np.mean(np.array(this_test_draws_1)))\n",
    "#         test_draws_2.append(np.mean(np.array(this_test_draws_2)))\n",
    "#         test_draws_3.append(np.mean(np.array(this_test_draws_3)))\n",
    "        test_draws_rand.append(np.mean(np.array(this_test_draws_rand)))\n",
    "        \n",
    "#         print('wins = ',test_results_1[-1],test_results_2[-1],test_results_3[-1],test_results_rand[-1])    \n",
    "#         print('draws = ',test_draws_1[-1],test_draws_2[-1],test_draws_3[-1],test_draws_rand[-1])    \n",
    "        print('wins = ',test_results_1[-1],test_results_rand[-1])    \n",
    "        print('draws = ',test_draws_1[-1],test_draws_rand[-1])    "
   ]
  },
  {
   "cell_type": "code",
   "execution_count": 26,
   "metadata": {},
   "outputs": [
    {
     "data": {
      "text/plain": [
       "[<matplotlib.lines.Line2D at 0x7fe340aedd90>]"
      ]
     },
     "execution_count": 26,
     "metadata": {},
     "output_type": "execute_result"
    },
    {
     "data": {
      "image/png": "[encoded data removed]",
      "text/plain": [
       "<Figure size 432x288 with 1 Axes>"
      ]
     },
     "metadata": {
      "needs_background": "light"
     },
     "output_type": "display_data"
    }
   ],
   "source": [
    "plt.plot(first_agent.episode_td_history)"
   ]
  },
  {
   "cell_type": "code",
   "execution_count": 27,
   "metadata": {},
   "outputs": [
    {
     "data": {
      "text/plain": [
       "[<matplotlib.lines.Line2D at 0x7fe3305024d0>]"
      ]
     },
     "execution_count": 27,
     "metadata": {},
     "output_type": "execute_result"
    },
    {
     "data": {
      "image/png": "[encoded data removed]",
      "text/plain": [
       "<Figure size 432x288 with 1 Axes>"
      ]
     },
     "metadata": {
      "needs_background": "light"
     },
     "output_type": "display_data"
    }
   ],
   "source": [
    "plt.plot(np.convolve(np.array(first_agent.episode_td_history),np.ones(100)))"
   ]
  },
  {
   "cell_type": "code",
   "execution_count": 21,
   "metadata": {},
   "outputs": [
    {
     "data": {
      "text/plain": [
       "[<matplotlib.lines.Line2D at 0x7fe300ce6a10>]"
      ]
     },
     "execution_count": 21,
     "metadata": {},
     "output_type": "execute_result"
    },
    {
     "data": {
      "image/png": "[encoded data removed]",
      "text/plain": [
       "<Figure size 432x288 with 1 Axes>"
      ]
     },
     "metadata": {
      "needs_background": "light"
     },
     "output_type": "display_data"
    }
   ],
   "source": [
    "plt.plot(first_agent.episode_reward_history)"
   ]
  },
  {
   "cell_type": "code",
   "execution_count": 24,
   "metadata": {},
   "outputs": [
    {
     "data": {
      "text/plain": [
       "[<matplotlib.lines.Line2D at 0x7fe340a1b090>]"
      ]
     },
     "execution_count": 24,
     "metadata": {},
     "output_type": "execute_result"
    },
    {
     "data": {
      "image/png": "[encoded data removed]",
      "text/plain": [
       "<Figure size 432x288 with 1 Axes>"
      ]
     },
     "metadata": {
      "needs_background": "light"
     },
     "output_type": "display_data"
    }
   ],
   "source": [
    "plt.plot(np.convolve(np.array(first_agent.episode_reward_history),np.ones(100)))"
   ]
  },
  {
   "cell_type": "code",
   "execution_count": null,
   "metadata": {},
   "outputs": [],
   "source": []
  },
  {
   "cell_type": "code",
   "execution_count": 8,
   "metadata": {},
   "outputs": [
    {
     "name": "stdout",
     "output_type": "stream",
     "text": [
      "0\n",
      "10\n",
      "20\n",
      "30\n",
      "40\n",
      "50\n",
      "60\n",
      "70\n",
      "80\n",
      "90\n"
     ]
    },
    {
     "data": {
      "text/plain": [
       "(0.01, 0.41)"
      ]
     },
     "execution_count": 8,
     "metadata": {},
     "output_type": "execute_result"
    }
   ],
   "source": [
    "max_random_start_depth=2\n",
    "n_test_games=100\n",
    "max_moves = 500\n",
    "test_results = []\n",
    "test_draws=[]\n",
    "\n",
    "for n in range(n_test_games):\n",
    "    if n%10 ==0:print(n)\n",
    "    first_agent_turn = bool(np.random.binomial(1,0.5))\n",
    "    rules = ClassicGameRules(max_moves=max_moves)\n",
    "    game = rules.new_game(ab2_r,ab3_r, first_agent_turn, quiet=quiet, reverse=reverse)\n",
    "    # random start\n",
    "    for _ in range(np.random.choice(max_random_start_depth)*2):\n",
    "        possible_moves = game.game_state.board.get_possible_next_moves()\n",
    "        next_move = possible_moves[np.random.choice(len(possible_moves),size=1)[0]]\n",
    "        game.game_state.board.make_move(next_move, switch_player_turn=True)\n",
    "\n",
    "    num_moves, game_state = game.run()\n",
    "    test_results.append(game_state.is_first_agent_win())\n",
    "    test_draws.append(game_state.max_moves_done)\n",
    "np.mean(np.array(test_results)),np.mean(np.array(test_draws))"
   ]
  },
  {
   "cell_type": "code",
   "execution_count": 17,
   "metadata": {},
   "outputs": [
    {
     "data": {
      "text/plain": [
       "[<matplotlib.lines.Line2D at 0x7fe320283bd0>]"
      ]
     },
     "execution_count": 17,
     "metadata": {},
     "output_type": "execute_result"
    },
    {
     "data": {
      "image/png": "[encoded data removed]",
      "text/plain": [
       "<Figure size 432x288 with 1 Axes>"
      ]
     },
     "metadata": {
      "needs_background": "light"
     },
     "output_type": "display_data"
    }
   ],
   "source": [
    "plt.plot(first_agent.episode_td_history)"
   ]
  },
  {
   "cell_type": "code",
   "execution_count": null,
   "metadata": {},
   "outputs": [],
   "source": []
  },
  {
   "cell_type": "code",
   "execution_count": null,
   "metadata": {},
   "outputs": [],
   "source": []
  },
  {
   "cell_type": "code",
   "execution_count": null,
   "metadata": {},
   "outputs": [],
   "source": []
  },
  {
   "cell_type": "code",
   "execution_count": null,
   "metadata": {},
   "outputs": [],
   "source": []
  },
  {
   "cell_type": "code",
   "execution_count": 10,
   "metadata": {},
   "outputs": [
    {
     "name": "stdout",
     "output_type": "stream",
     "text": [
      "0\n",
      "10\n",
      "20\n",
      "30\n",
      "40\n",
      "50\n",
      "60\n",
      "70\n",
      "80\n",
      "90\n"
     ]
    },
    {
     "data": {
      "text/plain": [
       "(0.4, 0.0)"
      ]
     },
     "execution_count": 10,
     "metadata": {},
     "output_type": "execute_result"
    }
   ],
   "source": [
    "max_random_start_depth=2\n",
    "test_results = []\n",
    "test_draws=[]\n",
    "\n",
    "for n in range(n_test_games):\n",
    "    if n%10 ==0:print(n)\n",
    "    first_agent_turn = bool(np.random.binomial(1,0.5))\n",
    "    rules = ClassicGameRules(max_moves=max_moves)\n",
    "    game = rules.new_game(ab1_r,ab2_r, first_agent_turn, quiet=quiet, reverse=reverse)\n",
    "    # random start\n",
    "    for _ in range(np.random.choice(max_random_start_depth)*2):\n",
    "        possible_moves = game.game_state.board.get_possible_next_moves()\n",
    "        next_move = possible_moves[np.random.choice(len(possible_moves),size=1)[0]]\n",
    "        game.game_state.board.make_move(next_move, switch_player_turn=True)\n",
    "\n",
    "    num_moves, game_state = game.run()\n",
    "    test_results.append(game_state.is_first_agent_win())\n",
    "    test_draws.append(game_state.max_moves_done)\n",
    "np.mean(np.array(test_results)),np.mean(np.array(test_draws))"
   ]
  },
  {
   "cell_type": "code",
   "execution_count": 11,
   "metadata": {},
   "outputs": [
    {
     "name": "stdout",
     "output_type": "stream",
     "text": [
      "0\n",
      "10\n",
      "20\n",
      "30\n",
      "40\n",
      "50\n",
      "60\n",
      "70\n",
      "80\n",
      "90\n"
     ]
    },
    {
     "data": {
      "text/plain": [
       "(0.0, 0.13)"
      ]
     },
     "execution_count": 11,
     "metadata": {},
     "output_type": "execute_result"
    }
   ],
   "source": [
    "max_random_start_depth=2\n",
    "test_results = []\n",
    "test_draws=[]\n",
    "\n",
    "for n in range(n_test_games):\n",
    "    if n%10 ==0:print(n)\n",
    "    first_agent_turn = bool(np.random.binomial(1,0.5))\n",
    "    rules = ClassicGameRules(max_moves=max_moves)\n",
    "    game = rules.new_game(ab1_r,ab3_r, first_agent_turn, quiet=quiet, reverse=reverse)\n",
    "    # random start\n",
    "    for _ in range(np.random.choice(max_random_start_depth)*2):\n",
    "        possible_moves = game.game_state.board.get_possible_next_moves()\n",
    "        next_move = possible_moves[np.random.choice(len(possible_moves),size=1)[0]]\n",
    "        game.game_state.board.make_move(next_move, switch_player_turn=True)\n",
    "\n",
    "    num_moves, game_state = game.run()\n",
    "    test_results.append(game_state.is_first_agent_win())\n",
    "    test_draws.append(game_state.max_moves_done)\n",
    "np.mean(np.array(test_results)),np.mean(np.array(test_draws))"
   ]
  },
  {
   "cell_type": "code",
   "execution_count": null,
   "metadata": {},
   "outputs": [],
   "source": []
  }
 ],
 "metadata": {
  "kernelspec": {
   "display_name": "Python 3",
   "language": "python",
   "name": "python3"
  },
  "language_info": {
   "codemirror_mode": {
    "name": "ipython",
    "version": 3
   },
   "file_extension": ".py",
   "mimetype": "text/x-python",
   "name": "python",
   "nbconvert_exporter": "python",
   "pygments_lexer": "ipython3",
   "version": "3.7.9"
  }
 },
 "nbformat": 4,
 "nbformat_minor": 4
}
